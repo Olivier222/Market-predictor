{
  "nbformat": 4,
  "nbformat_minor": 0,
  "metadata": {
    "colab": {
      "name": "Market Predictor.ipynb",
      "provenance": [],
      "collapsed_sections": [],
      "authorship_tag": "ABX9TyP4YLhTsX/KU2HwZiqY4hXT",
      "include_colab_link": true
    },
    "kernelspec": {
      "name": "python3",
      "display_name": "Python 3"
    }
  },
  "cells": [
    {
      "cell_type": "markdown",
      "metadata": {
        "id": "view-in-github",
        "colab_type": "text"
      },
      "source": [
        "<a href=\"https://colab.research.google.com/github/Olivier222/Market-predictor/blob/main/Market_Predictor.ipynb\" target=\"_parent\"><img src=\"https://colab.research.google.com/assets/colab-badge.svg\" alt=\"Open In Colab\"/></a>"
      ]
    },
    {
      "cell_type": "code",
      "metadata": {
        "id": "GAt-4tEugF1u",
        "outputId": "3cc0b85f-0484-4f81-e059-4ffc5ff60b30",
        "colab": {
          "base_uri": "https://localhost:8080/"
        }
      },
      "source": [
        "# from -> https://github.com/lit26/finvizfinance\n",
        "\n",
        "!git clone https://github.com/lit26/finvizfinance.git\n",
        "!pip install finvizfinance"
      ],
      "execution_count": null,
      "outputs": [
        {
          "output_type": "stream",
          "text": [
            "Cloning into 'finvizfinance'...\n",
            "remote: Enumerating objects: 62, done.\u001b[K\n",
            "remote: Counting objects: 100% (62/62), done.\u001b[K\n",
            "remote: Compressing objects: 100% (46/46), done.\u001b[K\n",
            "remote: Total 790 (delta 25), reused 37 (delta 13), pack-reused 728\u001b[K\n",
            "Receiving objects: 100% (790/790), 6.43 MiB | 26.13 MiB/s, done.\n",
            "Resolving deltas: 100% (441/441), done.\n",
            "Collecting finvizfinance\n",
            "  Downloading https://files.pythonhosted.org/packages/b1/db/99da51d4aeae5eabc6ecad7d2b3fec9e34161d5914713edd530dfa40ccd9/finvizfinance-0.7.1-py3-none-any.whl\n",
            "Requirement already satisfied: lxml in /usr/local/lib/python3.6/dist-packages (from finvizfinance) (4.2.6)\n",
            "Requirement already satisfied: bs4 in /usr/local/lib/python3.6/dist-packages (from finvizfinance) (0.0.1)\n",
            "Requirement already satisfied: pandas in /usr/local/lib/python3.6/dist-packages (from finvizfinance) (1.1.4)\n",
            "Collecting datetime\n",
            "\u001b[?25l  Downloading https://files.pythonhosted.org/packages/73/22/a5297f3a1f92468cc737f8ce7ba6e5f245fcfafeae810ba37bd1039ea01c/DateTime-4.3-py2.py3-none-any.whl (60kB)\n",
            "\u001b[K     |████████████████████████████████| 61kB 3.3MB/s \n",
            "\u001b[?25hRequirement already satisfied: requests in /usr/local/lib/python3.6/dist-packages (from finvizfinance) (2.23.0)\n",
            "Requirement already satisfied: beautifulsoup4 in /usr/local/lib/python3.6/dist-packages (from bs4->finvizfinance) (4.6.3)\n",
            "Requirement already satisfied: python-dateutil>=2.7.3 in /usr/local/lib/python3.6/dist-packages (from pandas->finvizfinance) (2.8.1)\n",
            "Requirement already satisfied: pytz>=2017.2 in /usr/local/lib/python3.6/dist-packages (from pandas->finvizfinance) (2018.9)\n",
            "Requirement already satisfied: numpy>=1.15.4 in /usr/local/lib/python3.6/dist-packages (from pandas->finvizfinance) (1.18.5)\n",
            "Collecting zope.interface\n",
            "\u001b[?25l  Downloading https://files.pythonhosted.org/packages/82/b0/da8afd9b3bd50c7665ecdac062f182982af1173c9081f9af7261091c5588/zope.interface-5.2.0-cp36-cp36m-manylinux2010_x86_64.whl (236kB)\n",
            "\u001b[K     |████████████████████████████████| 245kB 12.7MB/s \n",
            "\u001b[?25hRequirement already satisfied: idna<3,>=2.5 in /usr/local/lib/python3.6/dist-packages (from requests->finvizfinance) (2.10)\n",
            "Requirement already satisfied: certifi>=2017.4.17 in /usr/local/lib/python3.6/dist-packages (from requests->finvizfinance) (2020.6.20)\n",
            "Requirement already satisfied: urllib3!=1.25.0,!=1.25.1,<1.26,>=1.21.1 in /usr/local/lib/python3.6/dist-packages (from requests->finvizfinance) (1.24.3)\n",
            "Requirement already satisfied: chardet<4,>=3.0.2 in /usr/local/lib/python3.6/dist-packages (from requests->finvizfinance) (3.0.4)\n",
            "Requirement already satisfied: six>=1.5 in /usr/local/lib/python3.6/dist-packages (from python-dateutil>=2.7.3->pandas->finvizfinance) (1.15.0)\n",
            "Requirement already satisfied: setuptools in /usr/local/lib/python3.6/dist-packages (from zope.interface->datetime->finvizfinance) (50.3.2)\n",
            "Installing collected packages: zope.interface, datetime, finvizfinance\n",
            "Successfully installed datetime-4.3 finvizfinance-0.7.1 zope.interface-5.2.0\n"
          ],
          "name": "stdout"
        }
      ]
    },
    {
      "cell_type": "code",
      "metadata": {
        "id": "xQxzyEBas3zs",
        "outputId": "8cc2040b-371c-40b7-b5b5-204390a45251",
        "colab": {
          "base_uri": "https://localhost:8080/"
        }
      },
      "source": [
        "from google.colab import drive\n",
        "drive.mount(\"/content/gdrive\", force_remount=True)\n",
        "import os"
      ],
      "execution_count": null,
      "outputs": [
        {
          "output_type": "stream",
          "text": [
            "Mounted at /content/gdrive\n"
          ],
          "name": "stdout"
        }
      ]
    },
    {
      "cell_type": "code",
      "metadata": {
        "id": "X4kIjcDEj2y8"
      },
      "source": [
        "import pandas as pd\n",
        "from finvizfinance.quote import finvizfinance\n",
        "\n",
        "base_dir = \"/content/gdrive/My Drive/Github/\"\n",
        "stock = finvizfinance('nio')"
      ],
      "execution_count": null,
      "outputs": []
    },
    {
      "cell_type": "code",
      "metadata": {
        "id": "o32D28o3kAf6"
      },
      "source": [
        "stock.TickerCharts(out_dir=base_dir)"
      ],
      "execution_count": null,
      "outputs": []
    },
    {
      "cell_type": "code",
      "metadata": {
        "id": "yQZwEV4ckD43"
      },
      "source": [
        "stock_fundament = stock.TickerFundament()\n",
        "stock_fundament"
      ],
      "execution_count": null,
      "outputs": []
    },
    {
      "cell_type": "code",
      "metadata": {
        "id": "W4SK6JHika2T"
      },
      "source": [
        "stock_description = stock.TickerDescription()\n",
        "stock_description"
      ],
      "execution_count": null,
      "outputs": []
    },
    {
      "cell_type": "code",
      "metadata": {
        "id": "6AEtsEcBkLhl"
      },
      "source": [
        "inside_trader_df = stock.TickerInsideTrader()\n",
        "inside_trader_df"
      ],
      "execution_count": null,
      "outputs": []
    },
    {
      "cell_type": "code",
      "metadata": {
        "id": "Tyjn38GBkzZ8"
      },
      "source": [
        "# from -> https://github.com/VivekPa/IntroNeuralNetworks/blob/master/LSTM_model.py\n",
        "!pip install pandas-datareader\n",
        "!pip install yfinance --upgrade --no-cache-dir\n",
        "import pandas_datareader.data as pdr\n",
        "import yfinance as yf\n",
        "yf.pdr_override() \n",
        "\n",
        "import matplotlib.pyplot as plt\n",
        "import matplotlib.dates as mdates\n",
        "import matplotlib.ticker as mticker\n",
        "# from matplotlib.finance import candlestick_ohlc\n",
        "!pip install --upgrade mplfinance\n",
        "from mplfinance.original_flavor import candlestick_ohlc\n",
        "import mplfinance as mpf"
      ],
      "execution_count": null,
      "outputs": []
    },
    {
      "cell_type": "code",
      "metadata": {
        "id": "oBq6ljCmvkkn"
      },
      "source": [
        "stock = \"NIO\"\n",
        "ticker_data = yf.Ticker(stock)\n",
        "\n",
        "# get stock info\n",
        "ticker_data.info\n",
        "\n",
        "# get historical market data\n",
        "hist = ticker_data.history(period=\"max\")\n",
        "\n",
        "# plot chart\n",
        "daily = hist.copy()\n",
        "daily.drop(columns=['Dividends','Stock Splits'])\n",
        "trading_days_per_year = 252\n",
        "kwargs_style = {'type':'candle', 'style':'yahoo','volume':True}\n",
        "mpf.plot(daily.iloc[-trading_days_per_year*2:],**kwargs_style)\n",
        "mpf.plot(daily,**kwargs_style)\n"
      ],
      "execution_count": null,
      "outputs": []
    },
    {
      "cell_type": "code",
      "metadata": {
        "id": "GOHXyj-FwG-h"
      },
      "source": [
        "\n",
        "# show financials\n",
        "print(ticker_data.financials)\n",
        "print(ticker_data.quarterly_financials\n",
        "\n",
        "# show actions (dividends, splits)\n",
        "ticker_data.actions"
      ],
      "execution_count": null,
      "outputs": []
    },
    {
      "cell_type": "code",
      "metadata": {
        "id": "c-0Az8CmwZe4"
      },
      "source": [
        "# show dividends\n",
        "msft.dividends\n"
      ],
      "execution_count": null,
      "outputs": []
    },
    {
      "cell_type": "code",
      "metadata": {
        "id": "2R32WxpZwdAB",
        "outputId": "1c54fe3d-9b2e-4b80-ad9f-e2c4f8c24017",
        "colab": {
          "base_uri": "https://localhost:8080/"
        }
      },
      "source": [
        "# show splits\n",
        "# print(msft.splits)\n",
        "\n",
        ")\n",
        "\n",
        "# show major holders\n",
        "msft.major_holders\n",
        "\n",
        "# show institutional holders\n",
        "msft.institutional_holders\n",
        "\n",
        "# show balance sheet\n",
        "print(msft.balance_sheet)\n",
        "print(msft.quarterly_balance_sheet)\n",
        "\n",
        "# show cashflow\n",
        "msft.cashflow\n",
        "msft.quarterly_cashflow\n",
        "\n",
        "# show earnings\n",
        "msft.earnings\n",
        "msft.quarterly_earnings\n",
        "\n",
        "# show sustainability\n",
        "msft.sustainability\n",
        "\n",
        "# show analysts recommendations\n",
        "msft.recommendations\n",
        "\n",
        "# show next event (earnings, etc)\n",
        "msft.calendar\n",
        "\n",
        "# show ISIN code - *experimental*\n",
        "# ISIN = International Securities Identification Number\n",
        "msft.isin\n",
        "\n",
        "# show options expirations\n",
        "msft.options\n",
        "\n",
        "# get option chain for specific expiration\n",
        "# opt = msft.option_chain('YYYY-MM-DD')\n",
        "# data available via: opt.calls, opt.puts"
      ],
      "execution_count": null,
      "outputs": [
        {
          "output_type": "stream",
          "text": [
            "Empty DataFrame\n",
            "Columns: [Open, High, Low, Close, Adj Close, Volume]\n",
            "Index: []\n",
            "Empty DataFrame\n",
            "Columns: [Open, High, Low, Close, Adj Close, Volume]\n",
            "Index: []\n"
          ],
          "name": "stdout"
        },
        {
          "output_type": "execute_result",
          "data": {
            "text/plain": [
              "('2020-11-20',\n",
              " '2020-11-27',\n",
              " '2020-12-04',\n",
              " '2020-12-11',\n",
              " '2020-12-18',\n",
              " '2020-12-24',\n",
              " '2020-12-31',\n",
              " '2021-01-15',\n",
              " '2021-02-19',\n",
              " '2021-03-19',\n",
              " '2021-04-16',\n",
              " '2021-06-18',\n",
              " '2021-07-16',\n",
              " '2021-09-17',\n",
              " '2022-01-21',\n",
              " '2022-03-18',\n",
              " '2022-06-17',\n",
              " '2022-09-16',\n",
              " '2023-01-20')"
            ]
          },
          "metadata": {
            "tags": []
          },
          "execution_count": 23
        }
      ]
    },
    {
      "cell_type": "code",
      "metadata": {
        "id": "4cKq02P4nxec",
        "outputId": "191df270-8949-4298-87f4-2d23bfd5e7df",
        "colab": {
          "base_uri": "https://localhost:8080/",
          "height": 473
        }
      },
      "source": [
        "data = pdr.get_data_yahoo(\"AAPL\", \"2017-12-19\", \"2020-11-13\")\n",
        "stock = data[\"Adj Close\"]\n",
        "stock\n",
        "data"
      ],
      "execution_count": null,
      "outputs": [
        {
          "output_type": "stream",
          "text": [
            "[*********************100%***********************]  1 of 1 downloaded\n"
          ],
          "name": "stdout"
        },
        {
          "output_type": "execute_result",
          "data": {
            "text/html": [
              "<div>\n",
              "<style scoped>\n",
              "    .dataframe tbody tr th:only-of-type {\n",
              "        vertical-align: middle;\n",
              "    }\n",
              "\n",
              "    .dataframe tbody tr th {\n",
              "        vertical-align: top;\n",
              "    }\n",
              "\n",
              "    .dataframe thead th {\n",
              "        text-align: right;\n",
              "    }\n",
              "</style>\n",
              "<table border=\"1\" class=\"dataframe\">\n",
              "  <thead>\n",
              "    <tr style=\"text-align: right;\">\n",
              "      <th></th>\n",
              "      <th>Open</th>\n",
              "      <th>High</th>\n",
              "      <th>Low</th>\n",
              "      <th>Close</th>\n",
              "      <th>Adj Close</th>\n",
              "      <th>Volume</th>\n",
              "    </tr>\n",
              "    <tr>\n",
              "      <th>Date</th>\n",
              "      <th></th>\n",
              "      <th></th>\n",
              "      <th></th>\n",
              "      <th></th>\n",
              "      <th></th>\n",
              "      <th></th>\n",
              "    </tr>\n",
              "  </thead>\n",
              "  <tbody>\n",
              "    <tr>\n",
              "      <th>2017-12-19</th>\n",
              "      <td>43.757500</td>\n",
              "      <td>43.847500</td>\n",
              "      <td>43.522499</td>\n",
              "      <td>43.634998</td>\n",
              "      <td>41.649593</td>\n",
              "      <td>109745600</td>\n",
              "    </tr>\n",
              "    <tr>\n",
              "      <th>2017-12-20</th>\n",
              "      <td>43.717499</td>\n",
              "      <td>43.855000</td>\n",
              "      <td>43.312500</td>\n",
              "      <td>43.587502</td>\n",
              "      <td>41.604263</td>\n",
              "      <td>93902400</td>\n",
              "    </tr>\n",
              "    <tr>\n",
              "      <th>2017-12-21</th>\n",
              "      <td>43.542500</td>\n",
              "      <td>44.005001</td>\n",
              "      <td>43.525002</td>\n",
              "      <td>43.752499</td>\n",
              "      <td>41.761749</td>\n",
              "      <td>83799600</td>\n",
              "    </tr>\n",
              "    <tr>\n",
              "      <th>2017-12-22</th>\n",
              "      <td>43.669998</td>\n",
              "      <td>43.855000</td>\n",
              "      <td>43.625000</td>\n",
              "      <td>43.752499</td>\n",
              "      <td>41.761749</td>\n",
              "      <td>65397600</td>\n",
              "    </tr>\n",
              "    <tr>\n",
              "      <th>2017-12-26</th>\n",
              "      <td>42.700001</td>\n",
              "      <td>42.867500</td>\n",
              "      <td>42.419998</td>\n",
              "      <td>42.642502</td>\n",
              "      <td>40.702259</td>\n",
              "      <td>132742000</td>\n",
              "    </tr>\n",
              "    <tr>\n",
              "      <th>...</th>\n",
              "      <td>...</td>\n",
              "      <td>...</td>\n",
              "      <td>...</td>\n",
              "      <td>...</td>\n",
              "      <td>...</td>\n",
              "      <td>...</td>\n",
              "    </tr>\n",
              "    <tr>\n",
              "      <th>2020-11-06</th>\n",
              "      <td>118.320000</td>\n",
              "      <td>119.199997</td>\n",
              "      <td>116.129997</td>\n",
              "      <td>118.690002</td>\n",
              "      <td>118.690002</td>\n",
              "      <td>114457900</td>\n",
              "    </tr>\n",
              "    <tr>\n",
              "      <th>2020-11-09</th>\n",
              "      <td>120.500000</td>\n",
              "      <td>121.989998</td>\n",
              "      <td>116.050003</td>\n",
              "      <td>116.320000</td>\n",
              "      <td>116.320000</td>\n",
              "      <td>154515300</td>\n",
              "    </tr>\n",
              "    <tr>\n",
              "      <th>2020-11-10</th>\n",
              "      <td>115.550003</td>\n",
              "      <td>117.589996</td>\n",
              "      <td>114.129997</td>\n",
              "      <td>115.970001</td>\n",
              "      <td>115.970001</td>\n",
              "      <td>138023400</td>\n",
              "    </tr>\n",
              "    <tr>\n",
              "      <th>2020-11-11</th>\n",
              "      <td>117.190002</td>\n",
              "      <td>119.629997</td>\n",
              "      <td>116.440002</td>\n",
              "      <td>119.489998</td>\n",
              "      <td>119.489998</td>\n",
              "      <td>112295000</td>\n",
              "    </tr>\n",
              "    <tr>\n",
              "      <th>2020-11-12</th>\n",
              "      <td>119.620003</td>\n",
              "      <td>120.529999</td>\n",
              "      <td>118.570000</td>\n",
              "      <td>119.209999</td>\n",
              "      <td>119.209999</td>\n",
              "      <td>103162300</td>\n",
              "    </tr>\n",
              "  </tbody>\n",
              "</table>\n",
              "<p>731 rows × 6 columns</p>\n",
              "</div>"
            ],
            "text/plain": [
              "                  Open        High  ...   Adj Close     Volume\n",
              "Date                                ...                       \n",
              "2017-12-19   43.757500   43.847500  ...   41.649593  109745600\n",
              "2017-12-20   43.717499   43.855000  ...   41.604263   93902400\n",
              "2017-12-21   43.542500   44.005001  ...   41.761749   83799600\n",
              "2017-12-22   43.669998   43.855000  ...   41.761749   65397600\n",
              "2017-12-26   42.700001   42.867500  ...   40.702259  132742000\n",
              "...                ...         ...  ...         ...        ...\n",
              "2020-11-06  118.320000  119.199997  ...  118.690002  114457900\n",
              "2020-11-09  120.500000  121.989998  ...  116.320000  154515300\n",
              "2020-11-10  115.550003  117.589996  ...  115.970001  138023400\n",
              "2020-11-11  117.190002  119.629997  ...  119.489998  112295000\n",
              "2020-11-12  119.620003  120.529999  ...  119.209999  103162300\n",
              "\n",
              "[731 rows x 6 columns]"
            ]
          },
          "metadata": {
            "tags": []
          },
          "execution_count": 4
        }
      ]
    },
    {
      "cell_type": "code",
      "metadata": {
        "id": "pOAJCbxTn3Rz"
      },
      "source": [
        ""
      ],
      "execution_count": null,
      "outputs": []
    }
  ]
}